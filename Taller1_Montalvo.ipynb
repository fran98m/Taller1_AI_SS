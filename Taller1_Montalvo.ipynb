{
 "cells": [
  {
   "cell_type": "code",
   "execution_count": 2,
   "metadata": {},
   "outputs": [],
   "source": [
    "# Primero debemos importar los modulos importantes, no van a ser todos, solo los vitales inicialmente\n",
    "import pandas as pd\n",
    "import matplotlib as mat\n",
    "import numpy as np\n",
    "import seaborn as sb\n",
    "import os"
   ]
  },
  {
   "cell_type": "code",
   "execution_count": 41,
   "metadata": {},
   "outputs": [],
   "source": [
    "#Antes de comenzar con el taller se debe importar la base de datos\n",
    "base=pd.read_csv(\"cancer_mama.csv\")\n",
    "#Para simplificar el codigo se van a hacer minuscula los nombres de las variables de la base\n"
   ]
  },
  {
   "cell_type": "code",
   "execution_count": 42,
   "metadata": {},
   "outputs": [
    {
     "name": "stdout",
     "output_type": "stream",
     "text": [
      "<class 'pandas.core.frame.DataFrame'>\n"
     ]
    }
   ],
   "source": [
    "print(type(base))"
   ]
  },
  {
   "cell_type": "markdown",
   "metadata": {},
   "source": [
    "# 1 Distribución de las variables"
   ]
  },
  {
   "cell_type": "markdown",
   "metadata": {},
   "source": [
    "### a. Distribucion de las variables"
   ]
  },
  {
   "cell_type": "code",
   "execution_count": 24,
   "metadata": {},
   "outputs": [
    {
     "data": {
      "text/html": [
       "<div>\n",
       "<style scoped>\n",
       "    .dataframe tbody tr th:only-of-type {\n",
       "        vertical-align: middle;\n",
       "    }\n",
       "\n",
       "    .dataframe tbody tr th {\n",
       "        vertical-align: top;\n",
       "    }\n",
       "\n",
       "    .dataframe thead th {\n",
       "        text-align: right;\n",
       "    }\n",
       "</style>\n",
       "<table border=\"1\" class=\"dataframe\">\n",
       "  <thead>\n",
       "    <tr style=\"text-align: right;\">\n",
       "      <th></th>\n",
       "      <th>id number</th>\n",
       "      <th>diagnosis</th>\n",
       "      <th>radius</th>\n",
       "      <th>texture</th>\n",
       "      <th>perimeter</th>\n",
       "      <th>area</th>\n",
       "      <th>smoothness</th>\n",
       "      <th>compactness</th>\n",
       "      <th>concavity</th>\n",
       "      <th>concave points</th>\n",
       "      <th>symmetry</th>\n",
       "      <th>fractal dimension</th>\n",
       "    </tr>\n",
       "  </thead>\n",
       "  <tbody>\n",
       "    <tr>\n",
       "      <th>0</th>\n",
       "      <td>842302</td>\n",
       "      <td>M</td>\n",
       "      <td>17.99</td>\n",
       "      <td>10.38</td>\n",
       "      <td>122.80</td>\n",
       "      <td>1001.0</td>\n",
       "      <td>0.11840</td>\n",
       "      <td>0.27760</td>\n",
       "      <td>0.30010</td>\n",
       "      <td>0.14710</td>\n",
       "      <td>0.2419</td>\n",
       "      <td>0.07871</td>\n",
       "    </tr>\n",
       "    <tr>\n",
       "      <th>1</th>\n",
       "      <td>842517</td>\n",
       "      <td>M</td>\n",
       "      <td>20.57</td>\n",
       "      <td>17.77</td>\n",
       "      <td>132.90</td>\n",
       "      <td>1326.0</td>\n",
       "      <td>0.08474</td>\n",
       "      <td>0.07864</td>\n",
       "      <td>0.08690</td>\n",
       "      <td>0.07017</td>\n",
       "      <td>0.1812</td>\n",
       "      <td>0.05667</td>\n",
       "    </tr>\n",
       "    <tr>\n",
       "      <th>2</th>\n",
       "      <td>84300903</td>\n",
       "      <td>M</td>\n",
       "      <td>19.69</td>\n",
       "      <td>21.25</td>\n",
       "      <td>130.00</td>\n",
       "      <td>1203.0</td>\n",
       "      <td>0.10960</td>\n",
       "      <td>0.15990</td>\n",
       "      <td>0.19740</td>\n",
       "      <td>0.12790</td>\n",
       "      <td>0.2069</td>\n",
       "      <td>0.05999</td>\n",
       "    </tr>\n",
       "    <tr>\n",
       "      <th>3</th>\n",
       "      <td>84348301</td>\n",
       "      <td>M</td>\n",
       "      <td>11.42</td>\n",
       "      <td>20.38</td>\n",
       "      <td>77.58</td>\n",
       "      <td>386.1</td>\n",
       "      <td>0.14250</td>\n",
       "      <td>0.28390</td>\n",
       "      <td>0.24140</td>\n",
       "      <td>0.10520</td>\n",
       "      <td>0.2597</td>\n",
       "      <td>0.09744</td>\n",
       "    </tr>\n",
       "    <tr>\n",
       "      <th>4</th>\n",
       "      <td>84358402</td>\n",
       "      <td>M</td>\n",
       "      <td>20.29</td>\n",
       "      <td>14.34</td>\n",
       "      <td>135.10</td>\n",
       "      <td>1297.0</td>\n",
       "      <td>0.10030</td>\n",
       "      <td>0.13280</td>\n",
       "      <td>0.19800</td>\n",
       "      <td>0.10430</td>\n",
       "      <td>0.1809</td>\n",
       "      <td>0.05883</td>\n",
       "    </tr>\n",
       "    <tr>\n",
       "      <th>5</th>\n",
       "      <td>843786</td>\n",
       "      <td>M</td>\n",
       "      <td>12.45</td>\n",
       "      <td>15.70</td>\n",
       "      <td>82.57</td>\n",
       "      <td>477.1</td>\n",
       "      <td>0.12780</td>\n",
       "      <td>0.17000</td>\n",
       "      <td>0.15780</td>\n",
       "      <td>0.08089</td>\n",
       "      <td>0.2087</td>\n",
       "      <td>0.07613</td>\n",
       "    </tr>\n",
       "    <tr>\n",
       "      <th>6</th>\n",
       "      <td>844359</td>\n",
       "      <td>M</td>\n",
       "      <td>18.25</td>\n",
       "      <td>19.98</td>\n",
       "      <td>119.60</td>\n",
       "      <td>1040.0</td>\n",
       "      <td>0.09463</td>\n",
       "      <td>0.10900</td>\n",
       "      <td>0.11270</td>\n",
       "      <td>0.07400</td>\n",
       "      <td>0.1794</td>\n",
       "      <td>0.05742</td>\n",
       "    </tr>\n",
       "    <tr>\n",
       "      <th>7</th>\n",
       "      <td>84458202</td>\n",
       "      <td>M</td>\n",
       "      <td>13.71</td>\n",
       "      <td>20.83</td>\n",
       "      <td>90.20</td>\n",
       "      <td>577.9</td>\n",
       "      <td>0.11890</td>\n",
       "      <td>0.16450</td>\n",
       "      <td>0.09366</td>\n",
       "      <td>0.05985</td>\n",
       "      <td>0.2196</td>\n",
       "      <td>0.07451</td>\n",
       "    </tr>\n",
       "    <tr>\n",
       "      <th>8</th>\n",
       "      <td>844981</td>\n",
       "      <td>M</td>\n",
       "      <td>13.00</td>\n",
       "      <td>21.82</td>\n",
       "      <td>87.50</td>\n",
       "      <td>519.8</td>\n",
       "      <td>0.12730</td>\n",
       "      <td>0.19320</td>\n",
       "      <td>0.18590</td>\n",
       "      <td>0.09353</td>\n",
       "      <td>0.2350</td>\n",
       "      <td>0.07389</td>\n",
       "    </tr>\n",
       "    <tr>\n",
       "      <th>9</th>\n",
       "      <td>84501001</td>\n",
       "      <td>M</td>\n",
       "      <td>12.46</td>\n",
       "      <td>24.04</td>\n",
       "      <td>83.97</td>\n",
       "      <td>475.9</td>\n",
       "      <td>0.11860</td>\n",
       "      <td>0.23960</td>\n",
       "      <td>0.22730</td>\n",
       "      <td>0.08543</td>\n",
       "      <td>0.2030</td>\n",
       "      <td>0.08243</td>\n",
       "    </tr>\n",
       "  </tbody>\n",
       "</table>\n",
       "</div>"
      ],
      "text/plain": [
       "   id number diagnosis   radius   texture   perimeter    area  smoothness   \\\n",
       "0     842302          M    17.99     10.38     122.80  1001.0      0.11840   \n",
       "1     842517          M    20.57     17.77     132.90  1326.0      0.08474   \n",
       "2   84300903          M    19.69     21.25     130.00  1203.0      0.10960   \n",
       "3   84348301          M    11.42     20.38      77.58   386.1      0.14250   \n",
       "4   84358402          M    20.29     14.34     135.10  1297.0      0.10030   \n",
       "5     843786          M    12.45     15.70      82.57   477.1      0.12780   \n",
       "6     844359          M    18.25     19.98     119.60  1040.0      0.09463   \n",
       "7   84458202          M    13.71     20.83      90.20   577.9      0.11890   \n",
       "8     844981          M    13.00     21.82      87.50   519.8      0.12730   \n",
       "9   84501001          M    12.46     24.04      83.97   475.9      0.11860   \n",
       "\n",
       "   compactness   concavity   concave points  symmetry   fractal dimension  \n",
       "0       0.27760     0.30010         0.14710     0.2419            0.07871  \n",
       "1       0.07864     0.08690         0.07017     0.1812            0.05667  \n",
       "2       0.15990     0.19740         0.12790     0.2069            0.05999  \n",
       "3       0.28390     0.24140         0.10520     0.2597            0.09744  \n",
       "4       0.13280     0.19800         0.10430     0.1809            0.05883  \n",
       "5       0.17000     0.15780         0.08089     0.2087            0.07613  \n",
       "6       0.10900     0.11270         0.07400     0.1794            0.05742  \n",
       "7       0.16450     0.09366         0.05985     0.2196            0.07451  \n",
       "8       0.19320     0.18590         0.09353     0.2350            0.07389  \n",
       "9       0.23960     0.22730         0.08543     0.2030            0.08243  "
      ]
     },
     "execution_count": 24,
     "metadata": {},
     "output_type": "execute_result"
    }
   ],
   "source": [
    "#Es práctica común visualizar algunas entradas de la base de datos, en este caso se van a visualizar los primeros 10 datos, para darse una idea de como está construida la base de datos.\n",
    "\n",
    "base.head(10)"
   ]
  },
  {
   "cell_type": "code",
   "execution_count": 25,
   "metadata": {},
   "outputs": [
    {
     "name": "stdout",
     "output_type": "stream",
     "text": [
      "<class 'pandas.core.frame.DataFrame'>\n",
      "RangeIndex: 569 entries, 0 to 568\n",
      "Data columns (total 12 columns):\n",
      " #   Column             Non-Null Count  Dtype  \n",
      "---  ------             --------------  -----  \n",
      " 0   id number          569 non-null    int64  \n",
      " 1   diagnosis          569 non-null    object \n",
      " 2   radius             569 non-null    float64\n",
      " 3   texture            569 non-null    float64\n",
      " 4   perimeter          569 non-null    float64\n",
      " 5   area               569 non-null    float64\n",
      " 6   smoothness         569 non-null    float64\n",
      " 7   compactness        569 non-null    float64\n",
      " 8   concavity          569 non-null    float64\n",
      " 9   concave points     569 non-null    float64\n",
      " 10  symmetry           569 non-null    float64\n",
      " 11  fractal dimension  569 non-null    float64\n",
      "dtypes: float64(10), int64(1), object(1)\n",
      "memory usage: 53.5+ KB\n"
     ]
    }
   ],
   "source": [
    "#Descripcion de las variables\n",
    "\n",
    "base.info()"
   ]
  },
  {
   "cell_type": "markdown",
   "metadata": {},
   "source": [
    "- Con base en lo anterior podemos ver que de las 13 variables, 12 son continuas o un número, que se representa como un float\n",
    "- Se puede ver que la variable diagnosis es categórica representa un string \n",
    "- La variable id number representa enteros, sin embargo se entiende que son los códigos indiviuduales de las personas "
   ]
  },
  {
   "cell_type": "code",
   "execution_count": 26,
   "metadata": {},
   "outputs": [
    {
     "data": {
      "text/plain": [
       "(569, 12)"
      ]
     },
     "execution_count": 26,
     "metadata": {},
     "output_type": "execute_result"
    }
   ],
   "source": [
    "#Vamos a ver el tamaño de la base de datos, el primer numero indica el número de observaciones.\n",
    "base.shape"
   ]
  },
  {
   "cell_type": "markdown",
   "metadata": {},
   "source": [
    "- Con base en el resultado anterior podemos ver que la base de datos tiene 13 variables y 570 observaciones"
   ]
  },
  {
   "cell_type": "markdown",
   "metadata": {},
   "source": [
    "#### Estadísticas descrpitivas"
   ]
  },
  {
   "cell_type": "code",
   "execution_count": 27,
   "metadata": {},
   "outputs": [
    {
     "name": "stdout",
     "output_type": "stream",
     "text": [
      "id number               8670\n",
      "diagnosis                  B\n",
      "radius                 6.981\n",
      "texture                 9.71\n",
      "perimeter              43.79\n",
      "area                   143.5\n",
      "smoothness           0.05263\n",
      "compactness          0.01938\n",
      "concavity                0.0\n",
      "concave points           0.0\n",
      "symmetry               0.106\n",
      "fractal dimension    0.04996\n",
      "dtype: object\n",
      "id number            911320502\n",
      "diagnosis                    M\n",
      "radius                   28.11\n",
      "texture                  39.28\n",
      "perimeter                188.5\n",
      "area                    2501.0\n",
      "smoothness              0.1634\n",
      "compactness             0.3454\n",
      "concavity               0.4268\n",
      "concave points          0.2012\n",
      "symmetry                 0.304\n",
      "fractal dimension      0.09744\n",
      "dtype: object\n"
     ]
    }
   ],
   "source": [
    "#Para ver los mínimos y máximos de cada variable individual\n",
    "print(base.min())\n",
    "\n",
    "print(base.max())\n"
   ]
  },
  {
   "cell_type": "code",
   "execution_count": 30,
   "metadata": {},
   "outputs": [],
   "source": [
    "#Estadísticas decriptivas\n",
    "descriptivas=base.describe()"
   ]
  },
  {
   "cell_type": "code",
   "execution_count": null,
   "metadata": {},
   "outputs": [],
   "source": [
    "#Para hacer el histograma"
   ]
  },
  {
   "cell_type": "code",
   "execution_count": null,
   "metadata": {},
   "outputs": [],
   "source": [
    "#Para hacer el pairplot "
   ]
  },
  {
   "cell_type": "code",
   "execution_count": 33,
   "metadata": {},
   "outputs": [
    {
     "data": {
      "text/html": [
       "<div>\n",
       "<style scoped>\n",
       "    .dataframe tbody tr th:only-of-type {\n",
       "        vertical-align: middle;\n",
       "    }\n",
       "\n",
       "    .dataframe tbody tr th {\n",
       "        vertical-align: top;\n",
       "    }\n",
       "\n",
       "    .dataframe thead th {\n",
       "        text-align: right;\n",
       "    }\n",
       "</style>\n",
       "<table border=\"1\" class=\"dataframe\">\n",
       "  <thead>\n",
       "    <tr style=\"text-align: right;\">\n",
       "      <th></th>\n",
       "      <th>id number</th>\n",
       "      <th>diagnosis</th>\n",
       "      <th>radius</th>\n",
       "      <th>texture</th>\n",
       "      <th>perimeter</th>\n",
       "      <th>area</th>\n",
       "      <th>smoothness</th>\n",
       "      <th>compactness</th>\n",
       "      <th>concavity</th>\n",
       "      <th>concave points</th>\n",
       "      <th>symmetry</th>\n",
       "      <th>fractal dimension</th>\n",
       "    </tr>\n",
       "  </thead>\n",
       "  <tbody>\n",
       "    <tr>\n",
       "      <th>0</th>\n",
       "      <td>842302</td>\n",
       "      <td>M</td>\n",
       "      <td>17.99</td>\n",
       "      <td>10.38</td>\n",
       "      <td>122.80</td>\n",
       "      <td>1001.0</td>\n",
       "      <td>0.11840</td>\n",
       "      <td>0.27760</td>\n",
       "      <td>0.3001</td>\n",
       "      <td>0.14710</td>\n",
       "      <td>0.2419</td>\n",
       "      <td>0.07871</td>\n",
       "    </tr>\n",
       "    <tr>\n",
       "      <th>1</th>\n",
       "      <td>842517</td>\n",
       "      <td>M</td>\n",
       "      <td>20.57</td>\n",
       "      <td>17.77</td>\n",
       "      <td>132.90</td>\n",
       "      <td>1326.0</td>\n",
       "      <td>0.08474</td>\n",
       "      <td>0.07864</td>\n",
       "      <td>0.0869</td>\n",
       "      <td>0.07017</td>\n",
       "      <td>0.1812</td>\n",
       "      <td>0.05667</td>\n",
       "    </tr>\n",
       "    <tr>\n",
       "      <th>2</th>\n",
       "      <td>84300903</td>\n",
       "      <td>M</td>\n",
       "      <td>19.69</td>\n",
       "      <td>21.25</td>\n",
       "      <td>130.00</td>\n",
       "      <td>1203.0</td>\n",
       "      <td>0.10960</td>\n",
       "      <td>0.15990</td>\n",
       "      <td>0.1974</td>\n",
       "      <td>0.12790</td>\n",
       "      <td>0.2069</td>\n",
       "      <td>0.05999</td>\n",
       "    </tr>\n",
       "    <tr>\n",
       "      <th>3</th>\n",
       "      <td>84348301</td>\n",
       "      <td>M</td>\n",
       "      <td>11.42</td>\n",
       "      <td>20.38</td>\n",
       "      <td>77.58</td>\n",
       "      <td>386.1</td>\n",
       "      <td>0.14250</td>\n",
       "      <td>0.28390</td>\n",
       "      <td>0.2414</td>\n",
       "      <td>0.10520</td>\n",
       "      <td>0.2597</td>\n",
       "      <td>0.09744</td>\n",
       "    </tr>\n",
       "    <tr>\n",
       "      <th>4</th>\n",
       "      <td>84358402</td>\n",
       "      <td>M</td>\n",
       "      <td>20.29</td>\n",
       "      <td>14.34</td>\n",
       "      <td>135.10</td>\n",
       "      <td>1297.0</td>\n",
       "      <td>0.10030</td>\n",
       "      <td>0.13280</td>\n",
       "      <td>0.1980</td>\n",
       "      <td>0.10430</td>\n",
       "      <td>0.1809</td>\n",
       "      <td>0.05883</td>\n",
       "    </tr>\n",
       "  </tbody>\n",
       "</table>\n",
       "</div>"
      ],
      "text/plain": [
       "   id number diagnosis   radius   texture   perimeter    area  smoothness   \\\n",
       "0     842302          M    17.99     10.38     122.80  1001.0      0.11840   \n",
       "1     842517          M    20.57     17.77     132.90  1326.0      0.08474   \n",
       "2   84300903          M    19.69     21.25     130.00  1203.0      0.10960   \n",
       "3   84348301          M    11.42     20.38      77.58   386.1      0.14250   \n",
       "4   84358402          M    20.29     14.34     135.10  1297.0      0.10030   \n",
       "\n",
       "   compactness   concavity   concave points  symmetry   fractal dimension  \n",
       "0       0.27760      0.3001         0.14710     0.2419            0.07871  \n",
       "1       0.07864      0.0869         0.07017     0.1812            0.05667  \n",
       "2       0.15990      0.1974         0.12790     0.2069            0.05999  \n",
       "3       0.28390      0.2414         0.10520     0.2597            0.09744  \n",
       "4       0.13280      0.1980         0.10430     0.1809            0.05883  "
      ]
     },
     "execution_count": 33,
     "metadata": {},
     "output_type": "execute_result"
    }
   ],
   "source": [
    "base.head()"
   ]
  },
  {
   "cell_type": "markdown",
   "metadata": {},
   "source": [
    "# 2. Pre-Processing"
   ]
  },
  {
   "cell_type": "code",
   "execution_count": 43,
   "metadata": {},
   "outputs": [
    {
     "ename": "AttributeError",
     "evalue": "'list' object has no attribute 'columns'",
     "output_type": "error",
     "traceback": [
      "\u001b[0;31m---------------------------------------------------------------------------\u001b[0m",
      "\u001b[0;31mAttributeError\u001b[0m                            Traceback (most recent call last)",
      "\u001b[1;32m/Users/franciscomontalvo/Documents/Intersemestral 2022/AI For Social Sciences/Taller 1/Taller1_Montalvo.ipynb Cell 18'\u001b[0m in \u001b[0;36m<cell line: 3>\u001b[0;34m()\u001b[0m\n\u001b[1;32m      <a href='vscode-notebook-cell:/Users/franciscomontalvo/Documents/Intersemestral%202022/AI%20For%20Social%20Sciences/Taller%201/Taller1_Montalvo.ipynb#ch0000018?line=0'>1</a>\u001b[0m \u001b[39m#Inicialmente se revisa si se repiten observaciones en la base usando idnumber\u001b[39;00m\n\u001b[1;32m      <a href='vscode-notebook-cell:/Users/franciscomontalvo/Documents/Intersemestral%202022/AI%20For%20Social%20Sciences/Taller%201/Taller1_Montalvo.ipynb#ch0000018?line=1'>2</a>\u001b[0m \u001b[39m#Para evitar problemas con id number que tiene un espacio en la mitad se cambia el nombre de la columna\u001b[39;00m\n\u001b[0;32m----> <a href='vscode-notebook-cell:/Users/franciscomontalvo/Documents/Intersemestral%202022/AI%20For%20Social%20Sciences/Taller%201/Taller1_Montalvo.ipynb#ch0000018?line=2'>3</a>\u001b[0m base\u001b[39m=\u001b[39mbase\u001b[39m.\u001b[39mcolumns\u001b[39m=\u001b[39m[\u001b[39m\"\u001b[39m\u001b[39midnumber\u001b[39m\u001b[39m\"\u001b[39m,\u001b[39m\"\u001b[39m\u001b[39mdiagnosis\u001b[39m\u001b[39m\"\u001b[39m,\u001b[39m\"\u001b[39m\u001b[39mradius\u001b[39m\u001b[39m\"\u001b[39m,\u001b[39m\"\u001b[39m\u001b[39mtexture\u001b[39m\u001b[39m\"\u001b[39m,\u001b[39m\"\u001b[39m\u001b[39mperimeter\u001b[39m\u001b[39m\"\u001b[39m,\u001b[39m\"\u001b[39m\u001b[39marea\u001b[39m\u001b[39m\"\u001b[39m,\u001b[39m\"\u001b[39m\u001b[39msmoothness\u001b[39m\u001b[39m\"\u001b[39m,\u001b[39m\"\u001b[39m\u001b[39mcompactness\u001b[39m\u001b[39m\"\u001b[39m,\u001b[39m\"\u001b[39m\u001b[39mconcavity\u001b[39m\u001b[39m\"\u001b[39m,\u001b[39m\"\u001b[39m\u001b[39mconcavepoints\u001b[39m\u001b[39m\"\u001b[39m,\u001b[39m\"\u001b[39m\u001b[39msymetry\u001b[39m\u001b[39m\"\u001b[39m,\u001b[39m\"\u001b[39m\u001b[39mfractaldimension\u001b[39m\u001b[39m\"\u001b[39m]\n",
      "\u001b[0;31mAttributeError\u001b[0m: 'list' object has no attribute 'columns'"
     ]
    }
   ],
   "source": [
    "#Inicialmente se revisa si se repiten observaciones en la base usando idnumber\n",
    "#Para evitar problemas con id number que tiene un espacio en la mitad se cambia el nombre de la columna\n",
    "base=base.columns=[\"idnumber\",\"diagnosis\",\"radius\",\"texture\",\"perimeter\",\"area\",\"smoothness\",\"compactness\",\"concavity\",\"concavepoints\",\"symetry\",\"fractaldimension\"]"
   ]
  },
  {
   "cell_type": "code",
   "execution_count": 40,
   "metadata": {},
   "outputs": [
    {
     "name": "stdout",
     "output_type": "stream",
     "text": [
      "<class 'list'>\n"
     ]
    }
   ],
   "source": [
    "print(type(base))"
   ]
  },
  {
   "cell_type": "code",
   "execution_count": 37,
   "metadata": {},
   "outputs": [
    {
     "data": {
      "text/plain": [
       "Index(['id number', 'diagnosis ', 'radius ', 'texture ', 'perimeter', 'area',\n",
       "       'smoothness ', 'compactness ', 'concavity ', 'concave points',\n",
       "       'symmetry ', 'fractal dimension'],\n",
       "      dtype='object')"
      ]
     },
     "execution_count": 37,
     "metadata": {},
     "output_type": "execute_result"
    }
   ],
   "source": [
    "base.columns"
   ]
  },
  {
   "cell_type": "code",
   "execution_count": null,
   "metadata": {},
   "outputs": [],
   "source": []
  }
 ],
 "metadata": {
  "kernelspec": {
   "display_name": "Python 3.8.2 ('base')",
   "language": "python",
   "name": "python3"
  },
  "language_info": {
   "codemirror_mode": {
    "name": "ipython",
    "version": 3
   },
   "file_extension": ".py",
   "mimetype": "text/x-python",
   "name": "python",
   "nbconvert_exporter": "python",
   "pygments_lexer": "ipython3",
   "version": "3.8.2"
  },
  "orig_nbformat": 4,
  "vscode": {
   "interpreter": {
    "hash": "40d3a090f54c6569ab1632332b64b2c03c39dcf918b08424e98f38b5ae0af88f"
   }
  }
 },
 "nbformat": 4,
 "nbformat_minor": 2
}
